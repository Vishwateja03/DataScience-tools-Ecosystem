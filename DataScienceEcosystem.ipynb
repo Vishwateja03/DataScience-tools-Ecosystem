{
 "cells": [
  {
   "cell_type": "markdown",
   "id": "b4bfb36f",
   "metadata": {},
   "source": [
    "# Data Science Tools and Ecosystem\n"
   ]
  },
  {
   "cell_type": "markdown",
   "id": "9bb8d66e",
   "metadata": {},
   "source": [
    "## In this notebook, Data Science Tools and Ecosystem are summarized:"
   ]
  },
  {
   "cell_type": "markdown",
   "id": "7b0043ad",
   "metadata": {},
   "source": [
    "Objectives:\n",
    ">R, SQL & python are the popular languages uses in DataScience.\n",
    ">Apache spark, apache Airflow ,MYsql..etc are open source tools for DataScience.\n",
    ">pandas,numpy,matplotlib,keras,Pytorch..etc are Libraries ueses in DataScience."
   ]
  },
  {
   "cell_type": "markdown",
   "id": "0e411d77",
   "metadata": {},
   "source": [
    "#### Some of the popular languages that Data Scientists use are:\n",
    "1.Python\n",
    "\n",
    "2.R programming\n",
    "\n",
    "3.SQL\n",
    "\n",
    "4.Scala\n",
    "\n",
    "5.julia\n",
    "\n",
    "6.Java\n",
    "\n",
    "7.C++"
   ]
  },
  {
   "cell_type": "markdown",
   "id": "fcef428b",
   "metadata": {},
   "source": [
    "####  Some of the commonly used libraries used by Data Scientists include:\n",
    "1.NumPy\n",
    "\n",
    "2.pandas\n",
    "\n",
    "3.matplotlib\n",
    "\n",
    "4.pyTorch\n",
    "\n",
    "5.Scipy\n",
    "\n",
    "6.Keras\n",
    "\n",
    "7.TensorFlow"
   ]
  },
  {
   "cell_type": "markdown",
   "id": "d0a39daa",
   "metadata": {},
   "source": [
    "|Data Science Tools|\n",
    "|------------------|\n",
    "|RStudio|\n",
    "|VS Code|\n",
    "|Jupyter NoteBook|\n"
   ]
  },
  {
   "cell_type": "markdown",
   "id": "b5e39c08",
   "metadata": {},
   "source": [
    "### Below are a few examples of evaluating arithmetic expressions in Python:\n"
   ]
  },
  {
   "cell_type": "code",
   "execution_count": 3,
   "id": "a3c795d9",
   "metadata": {},
   "outputs": [
    {
     "data": {
      "text/plain": [
       "17"
      ]
     },
     "execution_count": 3,
     "metadata": {},
     "output_type": "execute_result"
    }
   ],
   "source": [
    "#This a simple arithmetic expression to mutiply then add integers\n",
    "(3*4)+5"
   ]
  },
  {
   "cell_type": "code",
   "execution_count": 4,
   "id": "b2015d51",
   "metadata": {},
   "outputs": [
    {
     "name": "stdout",
     "output_type": "stream",
     "text": [
      "200 minutes is equal to 3.3333333333333335 hours\n"
     ]
    }
   ],
   "source": [
    "# This will convert 200 minutes to hours by diving by 60\n",
    "minutes = 200\n",
    "\n",
    "hours = minutes / 60\n",
    "\n",
    "print(f\"{minutes} minutes is equal to {hours} hours\")\n"
   ]
  },
  {
   "cell_type": "markdown",
   "id": "6d19a54f",
   "metadata": {},
   "source": [
    "## Author\n",
    "SaiVishwaTeja Nagarjunapu"
   ]
  },
  {
   "cell_type": "code",
   "execution_count": null,
   "id": "aa6e16f6",
   "metadata": {},
   "outputs": [],
   "source": []
  }
 ],
 "metadata": {
  "kernelspec": {
   "display_name": "Python 3 (ipykernel)",
   "language": "python",
   "name": "python3"
  },
  "language_info": {
   "codemirror_mode": {
    "name": "ipython",
    "version": 3
   },
   "file_extension": ".py",
   "mimetype": "text/x-python",
   "name": "python",
   "nbconvert_exporter": "python",
   "pygments_lexer": "ipython3",
   "version": "3.9.12"
  }
 },
 "nbformat": 4,
 "nbformat_minor": 5
}
